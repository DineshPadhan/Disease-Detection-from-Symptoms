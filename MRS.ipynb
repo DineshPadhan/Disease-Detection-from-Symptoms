{
  "cells": [
    {
      "cell_type": "markdown",
      "metadata": {
        "id": "PaWAwRQjWBZb"
      },
      "source": [
        "### **Medicine Recommendation System**"
      ]
    },
    {
      "cell_type": "markdown",
      "metadata": {
        "id": "URSiNIqJWBZf"
      },
      "source": [
        "## **Load tools and ds**"
      ]
    },
    {
      "cell_type": "code",
      "execution_count": 9,
      "metadata": {
        "colab": {
          "base_uri": "https://localhost:8080/"
        },
        "id": "V9IJ39v9X-35",
        "outputId": "f43d457a-4089-4922-aaff-fc31018da8ab"
      },
      "outputs": [],
      "source": [
        "# from google.colab import drive\n",
        "# drive.mount('/content/drive/', timeout_ms=50000)"
      ]
    },
    {
      "cell_type": "code",
      "execution_count": 10,
      "metadata": {
        "id": "jo2dwJ9yWBZf"
      },
      "outputs": [],
      "source": [
        "import pandas as pd"
      ]
    },
    {
      "cell_type": "code",
      "execution_count": 11,
      "metadata": {
        "colab": {
          "base_uri": "https://localhost:8080/",
          "height": 342
        },
        "id": "hJG383LpWBZh",
        "outputId": "4af29dae-b3d0-4652-edb2-875bb68447cd"
      },
      "outputs": [
        {
          "data": {
            "text/html": [
              "<div>\n",
              "<style scoped>\n",
              "    .dataframe tbody tr th:only-of-type {\n",
              "        vertical-align: middle;\n",
              "    }\n",
              "\n",
              "    .dataframe tbody tr th {\n",
              "        vertical-align: top;\n",
              "    }\n",
              "\n",
              "    .dataframe thead th {\n",
              "        text-align: right;\n",
              "    }\n",
              "</style>\n",
              "<table border=\"1\" class=\"dataframe\">\n",
              "  <thead>\n",
              "    <tr style=\"text-align: right;\">\n",
              "      <th></th>\n",
              "      <th>itching</th>\n",
              "      <th>skin_rash</th>\n",
              "      <th>nodal_skin_eruptions</th>\n",
              "      <th>continuous_sneezing</th>\n",
              "      <th>shivering</th>\n",
              "      <th>chills</th>\n",
              "      <th>joint_pain</th>\n",
              "      <th>stomach_pain</th>\n",
              "      <th>acidity</th>\n",
              "      <th>ulcers_on_tongue</th>\n",
              "      <th>...</th>\n",
              "      <th>blackheads</th>\n",
              "      <th>scurring</th>\n",
              "      <th>skin_peeling</th>\n",
              "      <th>silver_like_dusting</th>\n",
              "      <th>small_dents_in_nails</th>\n",
              "      <th>inflammatory_nails</th>\n",
              "      <th>blister</th>\n",
              "      <th>red_sore_around_nose</th>\n",
              "      <th>yellow_crust_ooze</th>\n",
              "      <th>prognosis</th>\n",
              "    </tr>\n",
              "  </thead>\n",
              "  <tbody>\n",
              "    <tr>\n",
              "      <th>0</th>\n",
              "      <td>1</td>\n",
              "      <td>1</td>\n",
              "      <td>1</td>\n",
              "      <td>0</td>\n",
              "      <td>0</td>\n",
              "      <td>0</td>\n",
              "      <td>0</td>\n",
              "      <td>0</td>\n",
              "      <td>0</td>\n",
              "      <td>0</td>\n",
              "      <td>...</td>\n",
              "      <td>0</td>\n",
              "      <td>0</td>\n",
              "      <td>0</td>\n",
              "      <td>0</td>\n",
              "      <td>0</td>\n",
              "      <td>0</td>\n",
              "      <td>0</td>\n",
              "      <td>0</td>\n",
              "      <td>0</td>\n",
              "      <td>Fungal infection</td>\n",
              "    </tr>\n",
              "    <tr>\n",
              "      <th>1</th>\n",
              "      <td>0</td>\n",
              "      <td>1</td>\n",
              "      <td>1</td>\n",
              "      <td>0</td>\n",
              "      <td>0</td>\n",
              "      <td>0</td>\n",
              "      <td>0</td>\n",
              "      <td>0</td>\n",
              "      <td>0</td>\n",
              "      <td>0</td>\n",
              "      <td>...</td>\n",
              "      <td>0</td>\n",
              "      <td>0</td>\n",
              "      <td>0</td>\n",
              "      <td>0</td>\n",
              "      <td>0</td>\n",
              "      <td>0</td>\n",
              "      <td>0</td>\n",
              "      <td>0</td>\n",
              "      <td>0</td>\n",
              "      <td>Fungal infection</td>\n",
              "    </tr>\n",
              "    <tr>\n",
              "      <th>2</th>\n",
              "      <td>1</td>\n",
              "      <td>0</td>\n",
              "      <td>1</td>\n",
              "      <td>0</td>\n",
              "      <td>0</td>\n",
              "      <td>0</td>\n",
              "      <td>0</td>\n",
              "      <td>0</td>\n",
              "      <td>0</td>\n",
              "      <td>0</td>\n",
              "      <td>...</td>\n",
              "      <td>0</td>\n",
              "      <td>0</td>\n",
              "      <td>0</td>\n",
              "      <td>0</td>\n",
              "      <td>0</td>\n",
              "      <td>0</td>\n",
              "      <td>0</td>\n",
              "      <td>0</td>\n",
              "      <td>0</td>\n",
              "      <td>Fungal infection</td>\n",
              "    </tr>\n",
              "    <tr>\n",
              "      <th>3</th>\n",
              "      <td>1</td>\n",
              "      <td>1</td>\n",
              "      <td>0</td>\n",
              "      <td>0</td>\n",
              "      <td>0</td>\n",
              "      <td>0</td>\n",
              "      <td>0</td>\n",
              "      <td>0</td>\n",
              "      <td>0</td>\n",
              "      <td>0</td>\n",
              "      <td>...</td>\n",
              "      <td>0</td>\n",
              "      <td>0</td>\n",
              "      <td>0</td>\n",
              "      <td>0</td>\n",
              "      <td>0</td>\n",
              "      <td>0</td>\n",
              "      <td>0</td>\n",
              "      <td>0</td>\n",
              "      <td>0</td>\n",
              "      <td>Fungal infection</td>\n",
              "    </tr>\n",
              "    <tr>\n",
              "      <th>4</th>\n",
              "      <td>1</td>\n",
              "      <td>1</td>\n",
              "      <td>1</td>\n",
              "      <td>0</td>\n",
              "      <td>0</td>\n",
              "      <td>0</td>\n",
              "      <td>0</td>\n",
              "      <td>0</td>\n",
              "      <td>0</td>\n",
              "      <td>0</td>\n",
              "      <td>...</td>\n",
              "      <td>0</td>\n",
              "      <td>0</td>\n",
              "      <td>0</td>\n",
              "      <td>0</td>\n",
              "      <td>0</td>\n",
              "      <td>0</td>\n",
              "      <td>0</td>\n",
              "      <td>0</td>\n",
              "      <td>0</td>\n",
              "      <td>Fungal infection</td>\n",
              "    </tr>\n",
              "  </tbody>\n",
              "</table>\n",
              "<p>5 rows × 133 columns</p>\n",
              "</div>"
            ],
            "text/plain": [
              "   itching  skin_rash  nodal_skin_eruptions  continuous_sneezing  shivering  \\\n",
              "0        1          1                     1                    0          0   \n",
              "1        0          1                     1                    0          0   \n",
              "2        1          0                     1                    0          0   \n",
              "3        1          1                     0                    0          0   \n",
              "4        1          1                     1                    0          0   \n",
              "\n",
              "   chills  joint_pain  stomach_pain  acidity  ulcers_on_tongue  ...  \\\n",
              "0       0           0             0        0                 0  ...   \n",
              "1       0           0             0        0                 0  ...   \n",
              "2       0           0             0        0                 0  ...   \n",
              "3       0           0             0        0                 0  ...   \n",
              "4       0           0             0        0                 0  ...   \n",
              "\n",
              "   blackheads  scurring  skin_peeling  silver_like_dusting  \\\n",
              "0           0         0             0                    0   \n",
              "1           0         0             0                    0   \n",
              "2           0         0             0                    0   \n",
              "3           0         0             0                    0   \n",
              "4           0         0             0                    0   \n",
              "\n",
              "   small_dents_in_nails  inflammatory_nails  blister  red_sore_around_nose  \\\n",
              "0                     0                   0        0                     0   \n",
              "1                     0                   0        0                     0   \n",
              "2                     0                   0        0                     0   \n",
              "3                     0                   0        0                     0   \n",
              "4                     0                   0        0                     0   \n",
              "\n",
              "   yellow_crust_ooze         prognosis  \n",
              "0                  0  Fungal infection  \n",
              "1                  0  Fungal infection  \n",
              "2                  0  Fungal infection  \n",
              "3                  0  Fungal infection  \n",
              "4                  0  Fungal infection  \n",
              "\n",
              "[5 rows x 133 columns]"
            ]
          },
          "execution_count": 11,
          "metadata": {},
          "output_type": "execute_result"
        }
      ],
      "source": [
        "df = pd.read_csv(\"Dataset/Training.csv\")\n",
        "df.head()"
      ]
    },
    {
      "cell_type": "code",
      "execution_count": 12,
      "metadata": {
        "colab": {
          "base_uri": "https://localhost:8080/"
        },
        "id": "lXfLaocuWBZi",
        "outputId": "f8c64656-2f1d-4667-eacb-e614bc911d12"
      },
      "outputs": [
        {
          "data": {
            "text/plain": [
              "(4920, 133)"
            ]
          },
          "execution_count": 12,
          "metadata": {},
          "output_type": "execute_result"
        }
      ],
      "source": [
        "df.shape"
      ]
    },
    {
      "cell_type": "code",
      "execution_count": 13,
      "metadata": {
        "colab": {
          "base_uri": "https://localhost:8080/"
        },
        "id": "6tJUEUsXrv5e",
        "outputId": "8aa07d70-5d2d-4496-b0a5-ab4b9942547c"
      },
      "outputs": [
        {
          "data": {
            "text/plain": [
              "array(['Fungal infection', 'Allergy', 'GERD', 'Chronic cholestasis',\n",
              "       'Drug Reaction', 'Peptic ulcer diseae', 'AIDS', 'Diabetes ',\n",
              "       'Gastroenteritis', 'Bronchial Asthma', 'Hypertension ', 'Migraine',\n",
              "       'Cervical spondylosis', 'Paralysis (brain hemorrhage)', 'Jaundice',\n",
              "       'Malaria', 'Chicken pox', 'Dengue', 'Typhoid', 'hepatitis A',\n",
              "       'Hepatitis B', 'Hepatitis C', 'Hepatitis D', 'Hepatitis E',\n",
              "       'Alcoholic hepatitis', 'Tuberculosis', 'Common Cold', 'Pneumonia',\n",
              "       'Dimorphic hemmorhoids(piles)', 'Heart attack', 'Varicose veins',\n",
              "       'Hypothyroidism', 'Hyperthyroidism', 'Hypoglycemia',\n",
              "       'Osteoarthristis', 'Arthritis',\n",
              "       '(vertigo) Paroymsal  Positional Vertigo', 'Acne',\n",
              "       'Urinary tract infection', 'Psoriasis', 'Impetigo'], dtype=object)"
            ]
          },
          "execution_count": 13,
          "metadata": {},
          "output_type": "execute_result"
        }
      ],
      "source": [
        "df[\"prognosis\"].unique()"
      ]
    },
    {
      "cell_type": "code",
      "execution_count": 14,
      "metadata": {
        "colab": {
          "base_uri": "https://localhost:8080/"
        },
        "id": "Q8-Bb8YSWBZi",
        "outputId": "f1efc3a1-90aa-4198-e7b8-03c013d5106e"
      },
      "outputs": [
        {
          "data": {
            "text/plain": [
              "41"
            ]
          },
          "execution_count": 14,
          "metadata": {},
          "output_type": "execute_result"
        }
      ],
      "source": [
        "len(df[\"prognosis\"].unique())       #counting all the Disease"
      ]
    },
    {
      "cell_type": "markdown",
      "metadata": {
        "id": "cpMoMs6JWBZi"
      },
      "source": [
        "## **Train Test**"
      ]
    },
    {
      "cell_type": "code",
      "execution_count": 23,
      "metadata": {
        "id": "rmdNMewWWBZj"
      },
      "outputs": [],
      "source": [
        "# %pip install scikit-learn\n",
        "from sklearn.model_selection import train_test_split        #for splting and creating new dataset as a variable\n",
        "from sklearn.preprocessing import LabelEncoder"
      ]
    },
    {
      "cell_type": "code",
      "execution_count": 24,
      "metadata": {
        "id": "exwvt1eqVVe-"
      },
      "outputs": [],
      "source": [
        "X = df.drop([\"prognosis\"], axis=1)\n",
        "y = df[\"prognosis\"]"
      ]
    },
    {
      "cell_type": "code",
      "execution_count": 25,
      "metadata": {
        "id": "2ini6vt8WzuT"
      },
      "outputs": [],
      "source": [
        "le = LabelEncoder()\n",
        "le.fit(y)\n",
        "Y = le.fit_transform(y)"
      ]
    },
    {
      "cell_type": "code",
      "execution_count": 26,
      "metadata": {
        "id": "EX8RuihMVoSX"
      },
      "outputs": [],
      "source": [
        "X_train, X_test, y_train, y_test = train_test_split(X, Y, test_size=0.3, random_state=20)"
      ]
    },
    {
      "cell_type": "code",
      "execution_count": 27,
      "metadata": {
        "colab": {
          "base_uri": "https://localhost:8080/"
        },
        "id": "u4L_R_llVpCP",
        "outputId": "17d38949-c30b-4101-a783-d5d1d9931ce6"
      },
      "outputs": [
        {
          "data": {
            "text/plain": [
              "((3444, 132), (1476, 132), (3444,), (1476,))"
            ]
          },
          "execution_count": 27,
          "metadata": {},
          "output_type": "execute_result"
        }
      ],
      "source": [
        "X_train.shape, X_test.shape, y_train.shape, y_test.shape"
      ]
    },
    {
      "cell_type": "markdown",
      "metadata": {
        "id": "Al9Z9ljPXjSS"
      },
      "source": [
        "## **Training best Model**"
      ]
    },
    {
      "cell_type": "code",
      "execution_count": 28,
      "metadata": {
        "id": "iNBFJwRrXbdo"
      },
      "outputs": [],
      "source": [
        "from sklearn.datasets import make_classification\n",
        "from sklearn.svm import SVC\n",
        "from sklearn.ensemble import RandomForestClassifier, GradientBoostingClassifier\n",
        "from sklearn.neighbors import KNeighborsClassifier\n",
        "from sklearn.naive_bayes import MultinomialNB\n",
        "\n",
        "from sklearn.metrics import accuracy_score, confusion_matrix\n",
        "\n",
        "import numpy as np\n",
        "\n",
        "# model dictionary\n",
        "models = {\n",
        "    \"SVC\": SVC(kernel=\"linear\"),\n",
        "    \"RandomForest\": RandomForestClassifier(n_estimators=100, random_state=45),\n",
        "    \"GradientBoosting\": GradientBoostingClassifier(n_estimators=100, random_state=45),\n",
        "    \"KNeighbors\": KNeighborsClassifier(n_neighbors=5),\n",
        "    \"MultinomialNB\": MultinomialNB()\n",
        "}"
      ]
    },
    {
      "cell_type": "code",
      "execution_count": 29,
      "metadata": {
        "colab": {
          "base_uri": "https://localhost:8080/"
        },
        "id": "C70-zHiyVsAg",
        "outputId": "c7346819-e5c0-4ef0-9d97-5d865b76b2b5"
      },
      "outputs": [
        {
          "name": "stdout",
          "output_type": "stream",
          "text": [
            "Accuracy of SVC is 1.0\n",
            "confusion matrix of SVC is \n",
            "[[40, 0, 0,..., 0, 0, 0],\n",
            " [ 0,43, 0,..., 0, 0, 0],\n",
            " [ 0, 0,28,..., 0, 0, 0],\n",
            " ...,\n",
            " [ 0, 0, 0,...,34, 0, 0],\n",
            " [ 0, 0, 0,..., 0,41, 0],\n",
            " [ 0, 0, 0,..., 0, 0,31]]\n",
            "Accuracy of RandomForest is 1.0\n",
            "confusion matrix of RandomForest is \n",
            "[[40, 0, 0,..., 0, 0, 0],\n",
            " [ 0,43, 0,..., 0, 0, 0],\n",
            " [ 0, 0,28,..., 0, 0, 0],\n",
            " ...,\n",
            " [ 0, 0, 0,...,34, 0, 0],\n",
            " [ 0, 0, 0,..., 0,41, 0],\n",
            " [ 0, 0, 0,..., 0, 0,31]]\n",
            "Accuracy of GradientBoosting is 1.0\n",
            "confusion matrix of GradientBoosting is \n",
            "[[40, 0, 0,..., 0, 0, 0],\n",
            " [ 0,43, 0,..., 0, 0, 0],\n",
            " [ 0, 0,28,..., 0, 0, 0],\n",
            " ...,\n",
            " [ 0, 0, 0,...,34, 0, 0],\n",
            " [ 0, 0, 0,..., 0,41, 0],\n",
            " [ 0, 0, 0,..., 0, 0,31]]\n",
            "Accuracy of KNeighbors is 1.0\n",
            "confusion matrix of KNeighbors is \n",
            "[[40, 0, 0,..., 0, 0, 0],\n",
            " [ 0,43, 0,..., 0, 0, 0],\n",
            " [ 0, 0,28,..., 0, 0, 0],\n",
            " ...,\n",
            " [ 0, 0, 0,...,34, 0, 0],\n",
            " [ 0, 0, 0,..., 0,41, 0],\n",
            " [ 0, 0, 0,..., 0, 0,31]]\n",
            "Accuracy of MultinomialNB is 1.0\n",
            "confusion matrix of MultinomialNB is \n",
            "[[40, 0, 0,..., 0, 0, 0],\n",
            " [ 0,43, 0,..., 0, 0, 0],\n",
            " [ 0, 0,28,..., 0, 0, 0],\n",
            " ...,\n",
            " [ 0, 0, 0,...,34, 0, 0],\n",
            " [ 0, 0, 0,..., 0,41, 0],\n",
            " [ 0, 0, 0,..., 0, 0,31]]\n"
          ]
        }
      ],
      "source": [
        "for name, model in models.items():\n",
        "    model.fit(X_train, y_train)                        #training model\n",
        "    predictions = model.predict(X_test)                #test model\n",
        "    accuracy = accuracy_score(y_test, predictions)     #calculate accuracy\n",
        "    cm = confusion_matrix(y_test, predictions)         #calculate confusion matrix\n",
        "    print(f\"Accuracy of {name} is {accuracy}\")\n",
        "    print(f\"confusion matrix of {name} is \")\n",
        "    print(np.array2string(cm, separator=','))"
      ]
    },
    {
      "cell_type": "markdown",
      "metadata": {
        "id": "VodNn6jGkOg4"
      },
      "source": [
        "## **Single Prediction**"
      ]
    },
    {
      "cell_type": "code",
      "execution_count": 30,
      "metadata": {
        "colab": {
          "base_uri": "https://localhost:8080/"
        },
        "id": "uSYwKicoh2IH",
        "outputId": "a79e14a5-337b-493e-b96f-78c5552b17a6"
      },
      "outputs": [
        {
          "data": {
            "text/plain": [
              "1.0"
            ]
          },
          "execution_count": 30,
          "metadata": {},
          "output_type": "execute_result"
        }
      ],
      "source": [
        "svc = SVC(kernel=\"linear\")\n",
        "svc.fit(X_train, y_train)\n",
        "ypre = svc.predict(X_test)\n",
        "accuracy_score(y_test, ypre)"
      ]
    },
    {
      "cell_type": "code",
      "execution_count": 32,
      "metadata": {
        "id": "fafGKqfBkhNj"
      },
      "outputs": [],
      "source": [
        "# Saving Model\n",
        "import pickle\n",
        "pickle.dump(svc, open(\"model/svc.pkl\", \"wb\"))"
      ]
    },
    {
      "cell_type": "code",
      "execution_count": 33,
      "metadata": {
        "id": "pMM6PPgsk5Va"
      },
      "outputs": [],
      "source": [
        "# Load Model\n",
        "model = pickle.load(open(\"model/svc.pkl\", \"rb\"))\n"
      ]
    },
    {
      "cell_type": "code",
      "execution_count": 34,
      "metadata": {
        "colab": {
          "base_uri": "https://localhost:8080/"
        },
        "id": "nhE03NN2lm5F",
        "outputId": "6e69ac5a-0c67-4647-efb7-dccf2d198def"
      },
      "outputs": [
        {
          "name": "stdout",
          "output_type": "stream",
          "text": [
            "Predicted Lebel :  [40]\n",
            "Actual Lebel :  40\n"
          ]
        },
        {
          "name": "stderr",
          "output_type": "stream",
          "text": [
            "C:\\Users\\Dinesh Padhan\\AppData\\Roaming\\Python\\Python310\\site-packages\\sklearn\\base.py:493: UserWarning: X does not have valid feature names, but SVC was fitted with feature names\n",
            "  warnings.warn(\n"
          ]
        }
      ],
      "source": [
        "# test 1\n",
        "print(\"Predicted Lebel : \", svc.predict(X_test.iloc[0].values.reshape(1, -1)))\n",
        "print(\"Actual Lebel : \", y_test[0])"
      ]
    },
    {
      "cell_type": "code",
      "execution_count": 35,
      "metadata": {
        "colab": {
          "base_uri": "https://localhost:8080/"
        },
        "id": "HdoAU-EYmM1-",
        "outputId": "a332d71e-a5b5-43e2-a1f7-aafd7824309e"
      },
      "outputs": [
        {
          "name": "stdout",
          "output_type": "stream",
          "text": [
            "Predicted Lebel :  [18]\n",
            "Actual Lebel :  18\n"
          ]
        },
        {
          "name": "stderr",
          "output_type": "stream",
          "text": [
            "C:\\Users\\Dinesh Padhan\\AppData\\Roaming\\Python\\Python310\\site-packages\\sklearn\\base.py:493: UserWarning: X does not have valid feature names, but SVC was fitted with feature names\n",
            "  warnings.warn(\n"
          ]
        }
      ],
      "source": [
        "# test 2\n",
        "print(\"Predicted Lebel : \", svc.predict(X_test.iloc[34].values.reshape(1, -1)))\n",
        "print(\"Actual Lebel : \", y_test[34])"
      ]
    },
    {
      "cell_type": "markdown",
      "metadata": {
        "id": "R-G1J1P2na_g"
      },
      "source": [
        "## **Recommendation System and Prediction**"
      ]
    },
    {
      "cell_type": "markdown",
      "metadata": {
        "id": "695s1KB_nhPN"
      },
      "source": [
        "## **load database and use logic for recommendations**"
      ]
    },
    {
      "cell_type": "code",
      "execution_count": 36,
      "metadata": {
        "collapsed": true,
        "id": "SyllYGFhmS9B"
      },
      "outputs": [],
      "source": [
        "# sym_des = pd.read_csv(\"Dataset/symtoms_df.csv\")\n",
        "precaucation = pd.read_csv(\"Dataset/precautions_df.csv\")\n",
        "workout = pd.read_csv(\"Dataset/workout_df.csv\")\n",
        "description = pd.read_csv(\"Dataset/description.csv\")\n",
        "medication = pd.read_csv(\"Dataset/medications.csv\")\n",
        "diets = pd.read_csv(\"Dataset/diets.csv\")"
      ]
    },
    {
      "cell_type": "code",
      "execution_count": 44,
      "metadata": {
        "id": "MPMDQ1eFo6rk"
      },
      "outputs": [],
      "source": [
        "def helper(dis):\n",
        "  descr = description[description['Disease'] == dis]['Description']\n",
        "  descr = \"\".join([w for w in descr])\n",
        "\n",
        "  pre = precaucation[precaucation['Disease'] == dis][['Precaution_1','Precaution_2', 'Precaution_3', 'Precaution_4']]\n",
        "  pre = [col for col in pre.values]\n",
        "\n",
        "  med = medication[medication['Disease']==dis]['Medication']\n",
        "  med = [w for w in med.values]\n",
        "  \n",
        "\n",
        "  die = diets[diets['Disease']==dis]['Diet']\n",
        "  die = [w for w in die.values]\n",
        "\n",
        "  wrkout = workout[workout['disease'] == dis]['workout']\n",
        "  return descr, pre, med, die, wrkout\n",
        "\n",
        "symptoms_dict = {'itching': 0, 'skin_rash': 1, 'nodal_skin_eruptions': 2, 'continuous_sneezing': 3, 'shivering': 4, 'chills': 5, 'joint_pain': 6, 'stomach_pain': 7, 'acidity': 8, 'ulcers_on_tongue': 9, 'muscle_wasting': 10, 'vomiting': 11, 'burning_micturition': 12, 'spotting_ urination': 13, 'fatigue': 14, 'weight_gain': 15, 'anxiety': 16, 'cold_hands_and_feets': 17, 'mood_swings': 18, 'weight_loss': 19, 'restlessness': 20, 'lethargy': 21, 'patches_in_throat': 22, 'irregular_sugar_level': 23, 'cough': 24, 'high_fever': 25, 'sunken_eyes': 26, 'breathlessness': 27, 'sweating': 28, 'dehydration': 29, 'indigestion': 30, 'headache': 31, 'yellowish_skin': 32, 'dark_urine': 33, 'nausea': 34, 'loss_of_appetite': 35, 'pain_behind_the_eyes': 36, 'back_pain': 37, 'constipation': 38, 'abdominal_pain': 39, 'diarrhoea': 40, 'mild_fever': 41, 'yellow_urine': 42, 'yellowing_of_eyes': 43, 'acute_liver_failure': 44, 'fluid_overload': 45, 'swelling_of_stomach': 46, 'swelled_lymph_nodes': 47, 'malaise': 48, 'blurred_and_distorted_vision': 49, 'phlegm': 50, 'throat_irritation': 51, 'redness_of_eyes': 52, 'sinus_pressure': 53, 'runny_nose': 54, 'congestion': 55, 'chest_pain': 56, 'weakness_in_limbs': 57, 'fast_heart_rate': 58, 'pain_during_bowel_movements': 59, 'pain_in_anal_region': 60, 'bloody_stool': 61, 'irritation_in_anus': 62, 'neck_pain': 63, 'dizziness': 64, 'cramps': 65, 'bruising': 66, 'obesity': 67, 'swollen_legs': 68, 'swollen_blood_vessels': 69, 'puffy_face_and_eyes': 70, 'enlarged_thyroid': 71, 'brittle_nails': 72, 'swollen_extremeties': 73, 'excessive_hunger': 74, 'extra_marital_contacts': 75, 'drying_and_tingling_lips': 76, 'slurred_speech': 77, 'knee_pain': 78, 'hip_joint_pain': 79, 'muscle_weakness': 80, 'stiff_neck': 81, 'swelling_joints': 82, 'movement_stiffness': 83, 'spinning_movements': 84, 'loss_of_balance': 85, 'unsteadiness': 86, 'weakness_of_one_body_side': 87, 'loss_of_smell': 88, 'bladder_discomfort': 89, 'foul_smell_of urine': 90, 'continuous_feel_of_urine': 91, 'passage_of_gases': 92, 'internal_itching': 93, 'toxic_look_(typhos)': 94, 'depression': 95, 'irritability': 96, 'muscle_pain': 97, 'altered_sensorium': 98, 'red_spots_over_body': 99, 'belly_pain': 100, 'abnormal_menstruation': 101, 'dischromic _patches': 102, 'watering_from_eyes': 103, 'increased_appetite': 104, 'polyuria': 105, 'family_history': 106, 'mucoid_sputum': 107, 'rusty_sputum': 108, 'lack_of_concentration': 109, 'visual_disturbances': 110, 'receiving_blood_transfusion': 111, 'receiving_unsterile_injections': 112, 'coma': 113, 'stomach_bleeding': 114, 'distention_of_abdomen': 115, 'history_of_alcohol_consumption': 116, 'fluid_overload.1': 117, 'blood_in_sputum': 118, 'prominent_veins_on_calf': 119, 'palpitations': 120, 'painful_walking': 121, 'pus_filled_pimples': 122, 'blackheads': 123, 'scurring': 124, 'skin_peeling': 125, 'silver_like_dusting': 126, 'small_dents_in_nails': 127, 'inflammatory_nails': 128, 'blister': 129, 'red_sore_around_nose': 130, 'yellow_crust_ooze': 131}\n",
        "diseases_dict = {15: 'Fungal infection', 4: 'Allergy', 16: 'GERD', 9: 'Chronic cholestasis', 14: 'Drug Reaction', 33: 'Peptic ulcer diseae', 1: 'AIDS', 12: 'Diabetes ', 17: 'Gastroenteritis', 6: 'Bronchial Asthma', 23: 'Hypertension ', 30: 'Migraine', 7: 'Cervical spondylosis', 32: 'Paralysis (brain hemorrhage)', 28: 'Jaundice', 29: 'Malaria', 8: 'Chicken pox', 11: 'Dengue', 37: 'Typhoid', 40: 'hepatitis A', 19: 'Hepatitis B', 20: 'Hepatitis C', 21: 'Hepatitis D', 22: 'Hepatitis E', 3: 'Alcoholic hepatitis', 36: 'Tuberculosis', 10: 'Common Cold', 34: 'Pneumonia', 13: 'Dimorphic hemmorhoids(piles)', 18: 'Heart attack', 39: 'Varicose veins', 26: 'Hypothyroidism', 24: 'Hyperthyroidism', 25: 'Hypoglycemia', 31: 'Osteoarthristis', 5: 'Arthritis', 0: '(vertigo) Paroymsal  Positional Vertigo', 2: 'Acne', 38: 'Urinary tract infection', 35: 'Psoriasis', 27: 'Impetigo'}\n",
        "\n",
        "# model prediction Function\n",
        "def get_predicted_values(patient_symptoms):\n",
        "  inp_vector = np.zeros(len(symptoms_dict))\n",
        "\n",
        "  for i in patient_symptoms:\n",
        "    inp_vector[symptoms_dict[i]] = 1\n",
        "  return diseases_dict[svc.predict([inp_vector])[0]]"
      ]
    },
    {
      "cell_type": "code",
      "execution_count": 45,
      "metadata": {
        "colab": {
          "base_uri": "https://localhost:8080/"
        },
        "id": "f4kpWZmeue5H",
        "outputId": "e1afc772-5450-4352-a4a1-b49e144a0c37"
      },
      "outputs": [
        {
          "name": "stdout",
          "output_type": "stream",
          "text": [
            "Predicted Disease:  Fungal infection\n",
            "Description:  Fungal infection is a common skin condition caused by fungi.\n",
            "Precaution: \n",
            "=============\n",
            "1 :  bath twice\n",
            "2 :  use detol or neem in bathing water\n",
            "3 :  keep infected area dry\n",
            "4 :  use clean cloths\n",
            "Medication: \n",
            "=============\n",
            "1 :  ['Antifungal Cream', 'Fluconazole', 'Terbinafine', 'Clotrimazole', 'Ketoconazole']\n",
            "Diet: \n",
            "=============\n",
            "1 :  ['Antifungal Diet', 'Probiotics', 'Garlic', 'Coconut oil', 'Turmeric']\n",
            "Workout: \n",
            "=============\n",
            "1 :  Avoid sugary foods\n",
            "2 :  Consume probiotics\n",
            "3 :  Increase intake of garlic\n",
            "4 :  Include yogurt in diet\n",
            "5 :  Limit processed foods\n",
            "6 :  Stay hydrated\n",
            "7 :  Consume green tea\n",
            "8 :  Eat foods rich in zinc\n",
            "9 :  Include turmeric in diet\n",
            "10 :  Eat fruits and vegetables\n"
          ]
        },
        {
          "name": "stderr",
          "output_type": "stream",
          "text": [
            "C:\\Users\\Dinesh Padhan\\AppData\\Roaming\\Python\\Python310\\site-packages\\sklearn\\base.py:493: UserWarning: X does not have valid feature names, but SVC was fitted with feature names\n",
            "  warnings.warn(\n"
          ]
        }
      ],
      "source": [
        "# test 1:\n",
        "symptoms = input(\"Enter Symptoms: \")\n",
        "user_symptoms = [s.strip() for s in symptoms.split(\",\")]\n",
        "user_symptoms = [sym.strip(\"[]' \") for sym in user_symptoms]\n",
        "\n",
        "predicted_disease = get_predicted_values(user_symptoms)\n",
        "\n",
        "descr, pre, med, die, wrkout = helper(predicted_disease)\n",
        "print(\"Predicted Disease: \", predicted_disease)\n",
        "print(\"Description: \", descr)\n",
        "print(\"Precaution: \")\n",
        "print(\"=============\")\n",
        "i = 1\n",
        "for p_i in pre[0]:\n",
        "  print(i,\": \",p_i)\n",
        "  i=i+1\n",
        "print(\"Medication: \")\n",
        "print(\"=============\")\n",
        "i = 1\n",
        "for m_i in med:\n",
        "  print(i, \": \",m_i)\n",
        "  i+=1\n",
        "print(\"Diet: \")\n",
        "print(\"=============\")\n",
        "i = 1\n",
        "for d_i in die:\n",
        "  print(i, \": \",d_i)\n",
        "  i+=1\n",
        "print(\"Workout: \")\n",
        "print(\"=============\")\n",
        "i = 1\n",
        "for w_i in wrkout:\n",
        "  print(i, \": \",w_i)\n",
        "  i+=1"
      ]
    },
    {
      "cell_type": "code",
      "execution_count": 41,
      "metadata": {
        "colab": {
          "base_uri": "https://localhost:8080/",
          "height": 35
        },
        "id": "icffOK5nwYKi",
        "outputId": "c0a9abd0-7dda-499c-f80f-2ce03bb434fb"
      },
      "outputs": [
        {
          "data": {
            "text/plain": [
              "'1.5.1'"
            ]
          },
          "execution_count": 41,
          "metadata": {},
          "output_type": "execute_result"
        }
      ],
      "source": [
        "import sklearn\n",
        "sklearn.__version__"
      ]
    },
    {
      "cell_type": "code",
      "execution_count": null,
      "metadata": {},
      "outputs": [],
      "source": []
    }
  ],
  "metadata": {
    "colab": {
      "provenance": []
    },
    "kernelspec": {
      "display_name": "Python 3",
      "language": "python",
      "name": "python3"
    },
    "language_info": {
      "codemirror_mode": {
        "name": "ipython",
        "version": 3
      },
      "file_extension": ".py",
      "mimetype": "text/x-python",
      "name": "python",
      "nbconvert_exporter": "python",
      "pygments_lexer": "ipython3",
      "version": "3.10.0"
    }
  },
  "nbformat": 4,
  "nbformat_minor": 0
}
